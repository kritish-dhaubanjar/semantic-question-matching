{
  "nbformat": 4,
  "nbformat_minor": 0,
  "metadata": {
    "colab": {
      "name": "ArtificialNeuralNetwork.ipynb",
      "version": "0.3.2",
      "provenance": [],
      "collapsed_sections": []
    },
    "kernelspec": {
      "name": "python3",
      "display_name": "Python 3"
    }
  },
  "cells": [
    {
      "cell_type": "code",
      "metadata": {
        "id": "WKOzd9fQL6C7",
        "colab_type": "code",
        "outputId": "5ac89ea7-62c3-4aec-c96d-4672c742f57a",
        "colab": {
          "base_uri": "https://localhost:8080/",
          "height": 56
        }
      },
      "source": [
        "import pandas as pd\n",
        "import numpy as np\n",
        "\n",
        "from keras.models import Sequential\n",
        "from keras.layers import Dense, LSTM, Flatten, Embedding\n",
        "\n",
        "from google.colab import drive\n",
        "drive.mount('/content/drive')"
      ],
      "execution_count": 12,
      "outputs": [
        {
          "output_type": "stream",
          "text": [
            "Drive already mounted at /content/drive; to attempt to forcibly remount, call drive.mount(\"/content/drive\", force_remount=True).\n"
          ],
          "name": "stdout"
        }
      ]
    },
    {
      "cell_type": "code",
      "metadata": {
        "id": "LptLvZosMUmm",
        "colab_type": "code",
        "outputId": "ce56a487-e124-49cb-e75b-d7d3ca922939",
        "colab": {
          "base_uri": "https://localhost:8080/",
          "height": 267
        }
      },
      "source": [
        "dataset = pd.read_csv('/content/drive/My Drive/semantic-question-matching/Features/final_features.csv', delimiter='\\t')\n",
        "dataset.head(2)"
      ],
      "execution_count": 2,
      "outputs": [
        {
          "output_type": "execute_result",
          "data": {
            "text/html": [
              "<div>\n",
              "<style scoped>\n",
              "    .dataframe tbody tr th:only-of-type {\n",
              "        vertical-align: middle;\n",
              "    }\n",
              "\n",
              "    .dataframe tbody tr th {\n",
              "        vertical-align: top;\n",
              "    }\n",
              "\n",
              "    .dataframe thead th {\n",
              "        text-align: right;\n",
              "    }\n",
              "</style>\n",
              "<table border=\"1\" class=\"dataframe\">\n",
              "  <thead>\n",
              "    <tr style=\"text-align: right;\">\n",
              "      <th></th>\n",
              "      <th>question1</th>\n",
              "      <th>question2</th>\n",
              "      <th>is_duplicate</th>\n",
              "      <th>len_q1</th>\n",
              "      <th>len_q2</th>\n",
              "      <th>diff_len</th>\n",
              "      <th>len_char_q1</th>\n",
              "      <th>len_char_q2</th>\n",
              "      <th>len_word_q1</th>\n",
              "      <th>len_word_q2</th>\n",
              "      <th>common_words</th>\n",
              "      <th>fuzz_qratio</th>\n",
              "      <th>fuzz_WRatio</th>\n",
              "      <th>fuzz_partial_ratio</th>\n",
              "      <th>fuzz_partial_token_set_ratio</th>\n",
              "      <th>fuzz_partial_token_sort_ratio</th>\n",
              "      <th>fuzz_token_set_ratio</th>\n",
              "      <th>fuzz_token_sort_ratio</th>\n",
              "      <th>wmd</th>\n",
              "      <th>norm_wmd</th>\n",
              "      <th>cosine_distance</th>\n",
              "      <th>cityblock_distance</th>\n",
              "      <th>jaccard_distance</th>\n",
              "      <th>canberra_distance</th>\n",
              "      <th>euclidean_distance</th>\n",
              "      <th>minkowski_distance</th>\n",
              "      <th>braycurtis_distance</th>\n",
              "      <th>skew_q1vec</th>\n",
              "      <th>skew_q2vec</th>\n",
              "      <th>kur_q1vec</th>\n",
              "      <th>kur_q2vec</th>\n",
              "    </tr>\n",
              "  </thead>\n",
              "  <tbody>\n",
              "    <tr>\n",
              "      <th>0</th>\n",
              "      <td>What is the step by step guide to invest in sh...</td>\n",
              "      <td>What is the step by step guide to invest in sh...</td>\n",
              "      <td>0</td>\n",
              "      <td>66</td>\n",
              "      <td>57</td>\n",
              "      <td>9</td>\n",
              "      <td>20</td>\n",
              "      <td>20</td>\n",
              "      <td>14</td>\n",
              "      <td>12</td>\n",
              "      <td>10</td>\n",
              "      <td>93</td>\n",
              "      <td>95</td>\n",
              "      <td>98</td>\n",
              "      <td>100</td>\n",
              "      <td>89</td>\n",
              "      <td>100</td>\n",
              "      <td>93</td>\n",
              "      <td>0.564615</td>\n",
              "      <td>0.217555</td>\n",
              "      <td>0.037908</td>\n",
              "      <td>3.774843</td>\n",
              "      <td>1.0</td>\n",
              "      <td>75.949318</td>\n",
              "      <td>0.275348</td>\n",
              "      <td>0.125323</td>\n",
              "      <td>0.137314</td>\n",
              "      <td>0.008893</td>\n",
              "      <td>-0.099771</td>\n",
              "      <td>0.108845</td>\n",
              "      <td>0.344742</td>\n",
              "    </tr>\n",
              "    <tr>\n",
              "      <th>1</th>\n",
              "      <td>What is the story of Kohinoor (Koh-i-Noor) Dia...</td>\n",
              "      <td>What would happen if the Indian government sto...</td>\n",
              "      <td>0</td>\n",
              "      <td>51</td>\n",
              "      <td>88</td>\n",
              "      <td>-37</td>\n",
              "      <td>21</td>\n",
              "      <td>29</td>\n",
              "      <td>8</td>\n",
              "      <td>13</td>\n",
              "      <td>4</td>\n",
              "      <td>66</td>\n",
              "      <td>86</td>\n",
              "      <td>73</td>\n",
              "      <td>100</td>\n",
              "      <td>75</td>\n",
              "      <td>86</td>\n",
              "      <td>63</td>\n",
              "      <td>3.772346</td>\n",
              "      <td>1.368796</td>\n",
              "      <td>0.574596</td>\n",
              "      <td>15.130415</td>\n",
              "      <td>1.0</td>\n",
              "      <td>190.766894</td>\n",
              "      <td>1.072004</td>\n",
              "      <td>0.482108</td>\n",
              "      <td>0.648993</td>\n",
              "      <td>0.027151</td>\n",
              "      <td>0.060190</td>\n",
              "      <td>0.310524</td>\n",
              "      <td>0.033802</td>\n",
              "    </tr>\n",
              "  </tbody>\n",
              "</table>\n",
              "</div>"
            ],
            "text/plain": [
              "                                           question1  ... kur_q2vec\n",
              "0  What is the step by step guide to invest in sh...  ...  0.344742\n",
              "1  What is the story of Kohinoor (Koh-i-Noor) Dia...  ...  0.033802\n",
              "\n",
              "[2 rows x 31 columns]"
            ]
          },
          "metadata": {
            "tags": []
          },
          "execution_count": 2
        }
      ]
    },
    {
      "cell_type": "code",
      "metadata": {
        "id": "CGMnx0ZEMdUp",
        "colab_type": "code",
        "outputId": "4c06ac62-4d14-4909-8538-4d810687aa42",
        "colab": {
          "base_uri": "https://localhost:8080/",
          "height": 36
        }
      },
      "source": [
        "dataset.shape"
      ],
      "execution_count": 3,
      "outputs": [
        {
          "output_type": "execute_result",
          "data": {
            "text/plain": [
              "(404290, 31)"
            ]
          },
          "metadata": {
            "tags": []
          },
          "execution_count": 3
        }
      ]
    },
    {
      "cell_type": "code",
      "metadata": {
        "id": "dB1Lrz77Mfsm",
        "colab_type": "code",
        "outputId": "3ed67654-d99b-4022-aa52-50209404edbf",
        "colab": {
          "base_uri": "https://localhost:8080/",
          "height": 207
        }
      },
      "source": [
        "dataset.columns"
      ],
      "execution_count": 4,
      "outputs": [
        {
          "output_type": "execute_result",
          "data": {
            "text/plain": [
              "Index(['question1', 'question2', 'is_duplicate', 'len_q1', 'len_q2',\n",
              "       'diff_len', 'len_char_q1', 'len_char_q2', 'len_word_q1', 'len_word_q2',\n",
              "       'common_words', 'fuzz_qratio', 'fuzz_WRatio', 'fuzz_partial_ratio',\n",
              "       'fuzz_partial_token_set_ratio', 'fuzz_partial_token_sort_ratio',\n",
              "       'fuzz_token_set_ratio', 'fuzz_token_sort_ratio', 'wmd', 'norm_wmd',\n",
              "       'cosine_distance', 'cityblock_distance', 'jaccard_distance',\n",
              "       'canberra_distance', 'euclidean_distance', 'minkowski_distance',\n",
              "       'braycurtis_distance', 'skew_q1vec', 'skew_q2vec', 'kur_q1vec',\n",
              "       'kur_q2vec'],\n",
              "      dtype='object')"
            ]
          },
          "metadata": {
            "tags": []
          },
          "execution_count": 4
        }
      ]
    },
    {
      "cell_type": "code",
      "metadata": {
        "id": "VdE0jvIlTYQ6",
        "colab_type": "code",
        "colab": {}
      },
      "source": [
        "dataset.replace(to_replace=np.inf, value=np.nan, inplace=True)\n",
        "dataset.dropna(axis=0, inplace=True)"
      ],
      "execution_count": 0,
      "outputs": []
    },
    {
      "cell_type": "code",
      "metadata": {
        "id": "nOtdyHBRM3jW",
        "colab_type": "code",
        "colab": {}
      },
      "source": [
        "#diff_len, common_words,  fuzz_qratio ,fuzz_WRatio,fuzz_partial_ratio,fuzz_partial_token_set_ratio,  fuzz_partial_token_sort_ratio,  fuzz_token_set_ratio, fuzz_token_sort_ratio,cosine_distance, cityblock_distance, canberra_distance,euclidean_distance,minkowski_distance  and  braycurtis_distance. \n",
        "X = dataset.iloc[:, [5,10,11,12,13,14,15,16,17,18,20,21,23,24,25,26]].values\n",
        "y = dataset.iloc[:, 2].values"
      ],
      "execution_count": 0,
      "outputs": []
    },
    {
      "cell_type": "code",
      "metadata": {
        "id": "vnBzfkVcT8SK",
        "colab_type": "code",
        "outputId": "7b859dbf-63da-4aff-d002-3b9cf070967e",
        "colab": {
          "base_uri": "https://localhost:8080/",
          "height": 36
        }
      },
      "source": [
        "np.any(np.isinf(X))"
      ],
      "execution_count": 17,
      "outputs": [
        {
          "output_type": "execute_result",
          "data": {
            "text/plain": [
              "False"
            ]
          },
          "metadata": {
            "tags": []
          },
          "execution_count": 17
        }
      ]
    },
    {
      "cell_type": "code",
      "metadata": {
        "id": "Kxp7P-1aUede",
        "colab_type": "code",
        "outputId": "bec98d19-cf1a-440e-c5ca-46f301ed4284",
        "colab": {
          "base_uri": "https://localhost:8080/",
          "height": 36
        }
      },
      "source": [
        "np.any(np.isnan(X))"
      ],
      "execution_count": 18,
      "outputs": [
        {
          "output_type": "execute_result",
          "data": {
            "text/plain": [
              "False"
            ]
          },
          "metadata": {
            "tags": []
          },
          "execution_count": 18
        }
      ]
    },
    {
      "cell_type": "code",
      "metadata": {
        "id": "ItmAJm5kPGTd",
        "colab_type": "code",
        "colab": {}
      },
      "source": [
        "from sklearn.model_selection import train_test_split\n",
        "X_train, X_test, Y_train, Y_test = train_test_split(X, y, test_size=0.2)"
      ],
      "execution_count": 0,
      "outputs": []
    },
    {
      "cell_type": "code",
      "metadata": {
        "id": "cV9uV0GNsICJ",
        "colab_type": "code",
        "outputId": "37526951-3896-4af6-8748-5e888605722b",
        "colab": {
          "base_uri": "https://localhost:8080/",
          "height": 55
        }
      },
      "source": [
        "print(np.sum(Y_train))\n",
        "print(np.sum(Y_test))"
      ],
      "execution_count": 16,
      "outputs": [
        {
          "output_type": "stream",
          "text": [
            "117382\n",
            "29388\n"
          ],
          "name": "stdout"
        }
      ]
    },
    {
      "cell_type": "code",
      "metadata": {
        "id": "H6YD6sfCTREw",
        "colab_type": "code",
        "colab": {}
      },
      "source": [
        "from sklearn.preprocessing import StandardScaler\n",
        "sc_X = StandardScaler()\n",
        "X_train = sc_X.fit_transform(X_train)\n",
        "X_test = sc_X.transform(X_test)"
      ],
      "execution_count": 0,
      "outputs": []
    },
    {
      "cell_type": "code",
      "metadata": {
        "id": "lIseFWKKO1lk",
        "colab_type": "code",
        "colab": {}
      },
      "source": [
        "import pickle\n",
        "pickle.dump(sc_X, open('XScaler', 'wb'))"
      ],
      "execution_count": 0,
      "outputs": []
    },
    {
      "cell_type": "code",
      "metadata": {
        "id": "4odpGo4mPXf_",
        "colab_type": "code",
        "colab": {}
      },
      "source": [
        "classifier=Sequential()\n",
        "classifier.add(Dense(input_dim=16, kernel_initializer=\"uniform\", units=8, activation=\"relu\"))\n",
        "classifier.add(Dense(kernel_initializer=\"uniform\", units=8, activation=\"relu\"))\n",
        "#classifier.add(Dense(kernel_initializer=\"uniform\", units=8, activation=\"relu\"))\n",
        "#classifier.add(Dense(kernel_initializer=\"uniform\", units=8, activation=\"relu\"))\n",
        "#classifier.add(Dense(kernel_initializer=\"uniform\", units=8, activation=\"relu\"))\n",
        "#classifier.add(Dense(kernel_initializer=\"uniform\", units=8, activation=\"relu\"))\n",
        "classifier.add(Dense(kernel_initializer=\"uniform\", units=1, activation=\"sigmoid\"))"
      ],
      "execution_count": 0,
      "outputs": []
    },
    {
      "cell_type": "code",
      "metadata": {
        "id": "XAFaDom0P-8I",
        "colab_type": "code",
        "colab": {}
      },
      "source": [
        "classifier.compile(optimizer='adam',loss='binary_crossentropy',metrics=['accuracy'])"
      ],
      "execution_count": 0,
      "outputs": []
    },
    {
      "cell_type": "code",
      "metadata": {
        "id": "yeZ4NP7mQDWa",
        "colab_type": "code",
        "outputId": "70184089-d353-49bf-e1d8-b9b0250a38f9",
        "colab": {
          "base_uri": "https://localhost:8080/",
          "height": 2013
        }
      },
      "source": [
        "classifier.fit(X_train,Y_train,batch_size=10,epochs=50)"
      ],
      "execution_count": 15,
      "outputs": [
        {
          "output_type": "stream",
          "text": [
            "WARNING:tensorflow:From /usr/local/lib/python3.6/dist-packages/tensorflow/python/ops/math_ops.py:3066: to_int32 (from tensorflow.python.ops.math_ops) is deprecated and will be removed in a future version.\n",
            "Instructions for updating:\n",
            "Use tf.cast instead.\n",
            "Epoch 1/50\n",
            "314651/314651 [==============================] - 35s 110us/step - loss: 0.5169 - acc: 0.7008\n",
            "Epoch 2/50\n",
            "314651/314651 [==============================] - 34s 108us/step - loss: 0.5037 - acc: 0.7171\n",
            "Epoch 3/50\n",
            "314651/314651 [==============================] - 34s 107us/step - loss: 0.4997 - acc: 0.7204\n",
            "Epoch 4/50\n",
            "314651/314651 [==============================] - 33s 106us/step - loss: 0.4971 - acc: 0.7215\n",
            "Epoch 5/50\n",
            "314651/314651 [==============================] - 33s 106us/step - loss: 0.4957 - acc: 0.7227\n",
            "Epoch 6/50\n",
            "314651/314651 [==============================] - 35s 111us/step - loss: 0.4950 - acc: 0.7237\n",
            "Epoch 7/50\n",
            "314651/314651 [==============================] - 33s 105us/step - loss: 0.4946 - acc: 0.7243\n",
            "Epoch 8/50\n",
            "314651/314651 [==============================] - 33s 105us/step - loss: 0.4940 - acc: 0.7243\n",
            "Epoch 9/50\n",
            "314651/314651 [==============================] - 33s 105us/step - loss: 0.4937 - acc: 0.7251\n",
            "Epoch 10/50\n",
            "314651/314651 [==============================] - 33s 105us/step - loss: 0.4935 - acc: 0.7251\n",
            "Epoch 11/50\n",
            "314651/314651 [==============================] - 34s 107us/step - loss: 0.4935 - acc: 0.7251\n",
            "Epoch 12/50\n",
            "314651/314651 [==============================] - 34s 107us/step - loss: 0.4933 - acc: 0.7255\n",
            "Epoch 13/50\n",
            "314651/314651 [==============================] - 33s 106us/step - loss: 0.4932 - acc: 0.7253\n",
            "Epoch 14/50\n",
            "314651/314651 [==============================] - 33s 105us/step - loss: 0.4931 - acc: 0.7257\n",
            "Epoch 15/50\n",
            "314651/314651 [==============================] - 35s 111us/step - loss: 0.4929 - acc: 0.7257\n",
            "Epoch 16/50\n",
            "314651/314651 [==============================] - 33s 106us/step - loss: 0.4929 - acc: 0.7260\n",
            "Epoch 17/50\n",
            "314651/314651 [==============================] - 34s 107us/step - loss: 0.4928 - acc: 0.7258\n",
            "Epoch 18/50\n",
            "314651/314651 [==============================] - 33s 106us/step - loss: 0.4927 - acc: 0.7261\n",
            "Epoch 19/50\n",
            "314651/314651 [==============================] - 33s 105us/step - loss: 0.4926 - acc: 0.7268\n",
            "Epoch 20/50\n",
            "314651/314651 [==============================] - 33s 105us/step - loss: 0.4926 - acc: 0.7259\n",
            "Epoch 21/50\n",
            "314651/314651 [==============================] - 33s 105us/step - loss: 0.4925 - acc: 0.7255\n",
            "Epoch 22/50\n",
            "314651/314651 [==============================] - 33s 105us/step - loss: 0.4925 - acc: 0.7265\n",
            "Epoch 23/50\n",
            "314651/314651 [==============================] - 33s 105us/step - loss: 0.4923 - acc: 0.7261\n",
            "Epoch 24/50\n",
            "314651/314651 [==============================] - 34s 108us/step - loss: 0.4922 - acc: 0.7263\n",
            "Epoch 25/50\n",
            "314651/314651 [==============================] - 33s 106us/step - loss: 0.4922 - acc: 0.7268\n",
            "Epoch 26/50\n",
            "314651/314651 [==============================] - 33s 105us/step - loss: 0.4921 - acc: 0.7263\n",
            "Epoch 27/50\n",
            "314651/314651 [==============================] - 33s 105us/step - loss: 0.4920 - acc: 0.7266\n",
            "Epoch 28/50\n",
            "314651/314651 [==============================] - 33s 105us/step - loss: 0.4920 - acc: 0.7267\n",
            "Epoch 29/50\n",
            "314651/314651 [==============================] - 33s 103us/step - loss: 0.4920 - acc: 0.7263\n",
            "Epoch 30/50\n",
            "314651/314651 [==============================] - 33s 105us/step - loss: 0.4920 - acc: 0.7268\n",
            "Epoch 31/50\n",
            "314651/314651 [==============================] - 33s 105us/step - loss: 0.4919 - acc: 0.7262\n",
            "Epoch 32/50\n",
            "314651/314651 [==============================] - 33s 105us/step - loss: 0.4918 - acc: 0.7266\n",
            "Epoch 33/50\n",
            "314651/314651 [==============================] - 33s 105us/step - loss: 0.4918 - acc: 0.7269\n",
            "Epoch 34/50\n",
            "314651/314651 [==============================] - 34s 109us/step - loss: 0.4917 - acc: 0.7267\n",
            "Epoch 35/50\n",
            "314651/314651 [==============================] - 33s 105us/step - loss: 0.4915 - acc: 0.7271\n",
            "Epoch 36/50\n",
            "314651/314651 [==============================] - 33s 105us/step - loss: 0.4916 - acc: 0.7273\n",
            "Epoch 37/50\n",
            "314651/314651 [==============================] - 33s 105us/step - loss: 0.4915 - acc: 0.7267\n",
            "Epoch 38/50\n",
            "314651/314651 [==============================] - 34s 107us/step - loss: 0.4915 - acc: 0.7272\n",
            "Epoch 39/50\n",
            "314651/314651 [==============================] - 33s 105us/step - loss: 0.4915 - acc: 0.7265\n",
            "Epoch 40/50\n",
            "314651/314651 [==============================] - 33s 104us/step - loss: 0.4914 - acc: 0.7268\n",
            "Epoch 41/50\n",
            "314651/314651 [==============================] - 33s 105us/step - loss: 0.4914 - acc: 0.7269\n",
            "Epoch 42/50\n",
            "314651/314651 [==============================] - 33s 105us/step - loss: 0.4914 - acc: 0.7273\n",
            "Epoch 43/50\n",
            "314651/314651 [==============================] - 35s 110us/step - loss: 0.4913 - acc: 0.7273\n",
            "Epoch 44/50\n",
            "314651/314651 [==============================] - 33s 105us/step - loss: 0.4914 - acc: 0.7267\n",
            "Epoch 45/50\n",
            "314651/314651 [==============================] - 33s 105us/step - loss: 0.4913 - acc: 0.7269\n",
            "Epoch 46/50\n",
            "314651/314651 [==============================] - 33s 105us/step - loss: 0.4912 - acc: 0.7270\n",
            "Epoch 47/50\n",
            "314651/314651 [==============================] - 33s 105us/step - loss: 0.4911 - acc: 0.7270\n",
            "Epoch 48/50\n",
            "314651/314651 [==============================] - 33s 106us/step - loss: 0.4911 - acc: 0.7273\n",
            "Epoch 49/50\n",
            "314651/314651 [==============================] - 33s 105us/step - loss: 0.4912 - acc: 0.7272\n",
            "Epoch 50/50\n",
            "314651/314651 [==============================] - 33s 105us/step - loss: 0.4912 - acc: 0.7274\n"
          ],
          "name": "stdout"
        },
        {
          "output_type": "execute_result",
          "data": {
            "text/plain": [
              "<keras.callbacks.History at 0x7f4cffd13b38>"
            ]
          },
          "metadata": {
            "tags": []
          },
          "execution_count": 15
        }
      ]
    },
    {
      "cell_type": "code",
      "metadata": {
        "id": "ZpG9ILblRSjk",
        "colab_type": "code",
        "colab": {}
      },
      "source": [
        "y_pred = classifier.predict(X_test)\n",
        "y_pred=(y_pred>0.5)"
      ],
      "execution_count": 0,
      "outputs": []
    },
    {
      "cell_type": "code",
      "metadata": {
        "id": "1RGDIlfhSvQ-",
        "colab_type": "code",
        "outputId": "fef716ac-51c6-457f-bb5a-ef2d55d121db",
        "colab": {
          "base_uri": "https://localhost:8080/",
          "height": 55
        }
      },
      "source": [
        "from sklearn.metrics import confusion_matrix\n",
        "cm = confusion_matrix(Y_test, y_pred)\n",
        "print(cm)"
      ],
      "execution_count": 21,
      "outputs": [
        {
          "output_type": "stream",
          "text": [
            "[[37141 12134]\n",
            " [ 9546 19842]]\n"
          ],
          "name": "stdout"
        }
      ]
    },
    {
      "cell_type": "code",
      "metadata": {
        "id": "JWS8WHH73JVJ",
        "colab_type": "code",
        "colab": {}
      },
      "source": [
        "import pickle\n",
        "pickle.dump(classifier, open('ANN7274.model', 'wb'))"
      ],
      "execution_count": 0,
      "outputs": []
    }
  ]
}