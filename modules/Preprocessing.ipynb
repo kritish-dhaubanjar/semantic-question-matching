{
 "cells": [
  {
   "cell_type": "code",
   "execution_count": 84,
   "metadata": {},
   "outputs": [],
   "source": [
    "from nltk.corpus import stopwords\n",
    "from nltk.stem import PorterStemmer\n",
    "from nltk.stem import WordNetLemmatizer\n",
    "import re"
   ]
  },
  {
   "cell_type": "markdown",
   "metadata": {},
   "source": [
    "## Stopwords"
   ]
  },
  {
   "cell_type": "code",
   "execution_count": 72,
   "metadata": {},
   "outputs": [],
   "source": [
    "sentence = \"What is the step by step guide to invest in share market in india?\"\n",
    "sentence = re.sub(\"[^a-zA-z]\", \" \", sentence.lower())\n",
    "words = sentence.split()\n",
    "sentence = [word for word in words if not word in stopwords.words(\"english\")]"
   ]
  },
  {
   "cell_type": "code",
   "execution_count": 73,
   "metadata": {
    "scrolled": true
   },
   "outputs": [
    {
     "data": {
      "text/plain": [
       "['step', 'step', 'guide', 'invest', 'share', 'market', 'india']"
      ]
     },
     "execution_count": 73,
     "metadata": {},
     "output_type": "execute_result"
    }
   ],
   "source": [
    "sentence"
   ]
  },
  {
   "cell_type": "markdown",
   "metadata": {},
   "source": [
    "## Stemming and lemmatization"
   ]
  },
  {
   "cell_type": "code",
   "execution_count": 82,
   "metadata": {},
   "outputs": [],
   "source": [
    "ps = PorterStemmer()\n",
    "sentence = \"\"\"\n",
    "How do I register institute providing training in various programming languages \n",
    "for vocational courses as it will exempt it from the service tax?\n",
    "\"\"\"\n",
    "sentence = re.sub(\"[^a-zA-z]\", \" \", sentence.lower())\n",
    "words = sentence.split()\n",
    "sentence = [ps.stem(word) for word in words if not word in stopwords.words(\"english\")]"
   ]
  },
  {
   "cell_type": "code",
   "execution_count": 83,
   "metadata": {},
   "outputs": [
    {
     "data": {
      "text/plain": [
       "['regist',\n",
       " 'institut',\n",
       " 'provid',\n",
       " 'train',\n",
       " 'variou',\n",
       " 'program',\n",
       " 'languag',\n",
       " 'vocat',\n",
       " 'cours',\n",
       " 'exempt',\n",
       " 'servic',\n",
       " 'tax']"
      ]
     },
     "execution_count": 83,
     "metadata": {},
     "output_type": "execute_result"
    }
   ],
   "source": [
    "sentence"
   ]
  },
  {
   "cell_type": "code",
   "execution_count": 89,
   "metadata": {},
   "outputs": [],
   "source": [
    "wl = WordNetLemmatizer()\n",
    "sentence = \"\"\"\n",
    "How do I register institute providing training in various programming languages \n",
    "for vocational courses as it will exempt it from the service tax?\n",
    "\"\"\"\n",
    "sentence = re.sub(\"[^a-zA-z]\", \" \", sentence.lower())\n",
    "words = sentence.split()\n",
    "sentence = [wl.lemmatize(word) for word in words if not word in stopwords.words(\"english\")]"
   ]
  },
  {
   "cell_type": "code",
   "execution_count": 91,
   "metadata": {},
   "outputs": [
    {
     "data": {
      "text/plain": [
       "['register',\n",
       " 'institute',\n",
       " 'providing',\n",
       " 'training',\n",
       " 'various',\n",
       " 'programming',\n",
       " 'language',\n",
       " 'vocational',\n",
       " 'course',\n",
       " 'exempt',\n",
       " 'service',\n",
       " 'tax']"
      ]
     },
     "execution_count": 91,
     "metadata": {},
     "output_type": "execute_result"
    }
   ],
   "source": [
    "sentence"
   ]
  }
 ],
 "metadata": {
  "kernelspec": {
   "display_name": "Python 3",
   "language": "python",
   "name": "python3"
  },
  "language_info": {
   "codemirror_mode": {
    "name": "ipython",
    "version": 3
   },
   "file_extension": ".py",
   "mimetype": "text/x-python",
   "name": "python",
   "nbconvert_exporter": "python",
   "pygments_lexer": "ipython3",
   "version": "3.7.3"
  }
 },
 "nbformat": 4,
 "nbformat_minor": 2
}
